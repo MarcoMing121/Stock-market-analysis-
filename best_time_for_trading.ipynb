{
 "cells": [
  {
   "cell_type": "code",
   "execution_count": 1,
   "id": "3ead180d",
   "metadata": {},
   "outputs": [],
   "source": [
    "import pandas as pd\n",
    "import warnings\n",
    "from matplotlib import pyplot as plt \n",
    "import numpy as np\n",
    "import statsmodels.api as sm\n",
    "from sklearn.linear_model import LinearRegression\n",
    "from datetime import time\n",
    "from scipy import signal\n",
    "import obspy\n",
    "from obspy.signal.detrend import polynomial\n",
    "import copy\n",
    "warnings.filterwarnings(\"ignore\")\n",
    "xls = pd.ExcelFile('Ex4_data1.xlsx')\n",
    "df1 = pd.read_excel(xls, 'Intraday_data')\n",
    "df1_copy = df1.copy(deep=True)\n",
    "df2 = pd.read_excel(xls, 'Interday_data')\n",
    "df2 = df2[['Date','Price']]\n",
    "df2_copy = df2.copy(deep=True)\n",
    "df=(df1,df2,df1_copy,df2_copy)\n",
    "\n",
    "\n",
    "#linear intrapolate\n",
    "for i in df:\n",
    "    for n in list(i.columns):\n",
    "        if (i[n].isnull().values.any()):\n",
    "            i[n]=i[n].interpolate(method='linear')\n",
    "\n",
    "\n"
   ]
  },
  {
   "cell_type": "code",
   "execution_count": null,
   "id": "2ba76bb5-941b-429b-888f-0b6a9293a76e",
   "metadata": {},
   "outputs": [],
   "source": []
  },
  {
   "cell_type": "code",
   "execution_count": 2,
   "id": "d05f808b-086f-4af7-8a2f-34536c1f6ee9",
   "metadata": {},
   "outputs": [],
   "source": [
    "#detrend\n",
    "\n",
    "df1['detrend'] = signal.detrend(df1[\"HSI_Price\"], axis=-1, type='linear', bp=0)"
   ]
  },
  {
   "cell_type": "code",
   "execution_count": 3,
   "id": "bc6beb03-f804-440e-8870-41ccfc0fdbb7",
   "metadata": {},
   "outputs": [],
   "source": [
    "def in_timerange(check):\n",
    "    if ((time(9,30)<=check) and (time(9,59)>=check)):\n",
    "        return '09:30-09:59'\n",
    "    elif ((time(10,0)<=check) and (time(10,29)>=check)):\n",
    "        return '10:00-10:29'\n",
    "    elif ((time(10,30)<=check) and (time(10,59)>=check)):\n",
    "        return '10:30-10:59'\n",
    "    elif ((time(11,0)<=check) and (time(11,29)>=check)):\n",
    "        return '11:00-11:29'\n",
    "    elif ((time(11,30)<=check) and (time(12,5)>=check)):\n",
    "        return '11:30-12:05'\n",
    "    elif ((time(13,0)<=check) and (time(13,29)>=check)):\n",
    "        return '13:00-13:29'\n",
    "    elif ((time(13,30)<=check) and (time(13,59)>=check)):\n",
    "        return '13:30-13:59'\n",
    "    elif ((time(14,0)<=check) and (time(14,29)>=check)):\n",
    "        return '14:00-14:29'\n",
    "    elif ((time(14,30)<=check) and (time(14,59)>=check)):\n",
    "        return '14:30-14:59'\n",
    "    elif ((time(15,0)<=check) and (time(15,29)>=check)):\n",
    "        return '15:00-15:29'\n",
    "    elif ((time(15,30)<=check) and (time(15,59)>=check)):\n",
    "        return '15:30-15:59'"
   ]
  },
  {
   "cell_type": "code",
   "execution_count": 4,
   "id": "9c1039bf-3a0b-4128-bc30-7bf0d68ca8f5",
   "metadata": {},
   "outputs": [],
   "source": [
    "#create dummy variable\n",
    "\n",
    "df1['Datetime'] = pd.to_datetime(df1['Datetime'])\n",
    "df1['TimeRange'] = df1['Datetime'].dt.time.apply(in_timerange)\n",
    "\n",
    "\n",
    "#create dummy variable\n",
    "df1=pd.get_dummies(df1)\n",
    "df1=df1.set_index('Datetime')\n",
    "df1=df1.drop(['TimeRange_09:30-09:59'],axis=1)\n",
    "df11 = df1.copy()\n",
    "df1.drop([\"HSI_Price\"], axis=1,inplace=True)"
   ]
  },
  {
   "cell_type": "code",
   "execution_count": 5,
   "id": "94ee07ad-5ec1-4ccc-8784-eafb4df3dce2",
   "metadata": {},
   "outputs": [
    {
     "name": "stdout",
     "output_type": "stream",
     "text": [
      "                            OLS Regression Results                            \n",
      "==============================================================================\n",
      "Dep. Variable:                detrend   R-squared:                       0.000\n",
      "Model:                            OLS   Adj. R-squared:                 -0.001\n",
      "Method:                 Least Squares   F-statistic:                    0.1969\n",
      "Date:                Sun, 12 Mar 2023   Prob (F-statistic):              0.997\n",
      "Time:                        23:14:50   Log-Likelihood:                -44336.\n",
      "No. Observations:                6035   AIC:                         8.869e+04\n",
      "Df Residuals:                    6024   BIC:                         8.877e+04\n",
      "Df Model:                          10                                         \n",
      "Covariance Type:            nonrobust                                         \n",
      "=========================================================================================\n",
      "                            coef    std err          t      P>|t|      [0.025      0.975]\n",
      "-----------------------------------------------------------------------------------------\n",
      "const                     0.2718     16.282      0.017      0.987     -31.647      32.190\n",
      "TimeRange_10:00-10:29     4.4872     22.941      0.196      0.845     -40.485      49.459\n",
      "TimeRange_10:30-10:59    -3.2714     22.941     -0.143      0.887     -48.244      41.701\n",
      "TimeRange_11:00-11:29    -6.4753     22.973     -0.282      0.778     -51.510      38.559\n",
      "TimeRange_11:30-12:05    -2.4955     21.972     -0.114      0.910     -45.568      40.577\n",
      "TimeRange_13:00-13:29   -11.2760     22.941     -0.492      0.623     -56.248      33.696\n",
      "TimeRange_13:30-13:59    -5.1430     22.941     -0.224      0.823     -50.115      39.829\n",
      "TimeRange_14:00-14:29     2.1192     22.941      0.092      0.926     -42.853      47.091\n",
      "TimeRange_14:30-14:59    -2.1544     22.941     -0.094      0.925     -47.127      42.818\n",
      "TimeRange_15:00-15:29     6.4901     22.941      0.283      0.777     -38.482      51.462\n",
      "TimeRange_15:30-15:59    15.2004     22.962      0.662      0.508     -29.813      60.214\n",
      "==============================================================================\n",
      "Omnibus:                      622.750   Durbin-Watson:                   0.002\n",
      "Prob(Omnibus):                  0.000   Jarque-Bera (JB):              541.851\n",
      "Skew:                           0.656   Prob(JB):                    2.18e-118\n",
      "Kurtosis:                       2.342   Cond. No.                         12.1\n",
      "==============================================================================\n",
      "\n",
      "Notes:\n",
      "[1] Standard Errors assume that the covariance matrix of the errors is correctly specified.\n",
      "0.00032673554165152385\n"
     ]
    }
   ],
   "source": [
    "#OLS model fitting\n",
    "X = df1.drop('detrend', axis = 1)\n",
    "X = sm.add_constant(X)\n",
    "y = df1.loc[:,'detrend']\n",
    "model=sm.OLS(y, X).fit()\n",
    "print(model.summary())\n",
    "print(model.rsquared)"
   ]
  },
  {
   "cell_type": "code",
   "execution_count": 6,
   "id": "55e6a12e-53e9-4b7f-8689-8a6e45b66c74",
   "metadata": {},
   "outputs": [
    {
     "data": {
      "text/plain": [
       "1.075"
      ]
     },
     "execution_count": 6,
     "metadata": {},
     "output_type": "execute_result"
    }
   ],
   "source": [
    "best_buy = df11.loc[df1['TimeRange_13:00-13:29'] == 1]['HSI_Price'].min()\n",
    "best_sell = df11.loc[df1['TimeRange_15:30-15:59'] == 1]['HSI_Price'].max()\n",
    "\n",
    "s2b = best_sell / best_buy\n",
    "round(s2b,3)"
   ]
  },
  {
   "cell_type": "code",
   "execution_count": 7,
   "id": "87712b39",
   "metadata": {},
   "outputs": [],
   "source": [
    "#improve method\n",
    "#calculate average price for every half hour\n",
    "df1_copy['Datetime'] = pd.to_datetime(df1_copy['Datetime'])\n",
    "df1_copy=df1_copy.set_index('Datetime')\n",
    "df1_copy=df1_copy.resample('30T').sum()/30\n",
    "\n",
    "#drop the useless period\n",
    "df1_copy.drop(df1_copy[df1_copy.HSI_Price < 10000].index, inplace=True)"
   ]
  },
  {
   "cell_type": "code",
   "execution_count": 8,
   "id": "4dca8bf1",
   "metadata": {},
   "outputs": [],
   "source": [
    "#detrend\n",
    "df1_copy['detrend'] = signal.detrend(df1_copy[\"HSI_Price\"], axis=-1, type='linear', bp=0)\n"
   ]
  },
  {
   "cell_type": "code",
   "execution_count": 9,
   "id": "6ee05ade",
   "metadata": {},
   "outputs": [
    {
     "name": "stdout",
     "output_type": "stream",
     "text": [
      "                            OLS Regression Results                            \n",
      "==============================================================================\n",
      "Dep. Variable:                detrend   R-squared:                       0.029\n",
      "Model:                            OLS   Adj. R-squared:                 -0.023\n",
      "Method:                 Least Squares   F-statistic:                    0.5559\n",
      "Date:                Sun, 12 Mar 2023   Prob (F-statistic):              0.848\n",
      "Time:                        23:14:50   Log-Likelihood:                -1530.5\n",
      "No. Observations:                 198   AIC:                             3083.\n",
      "Df Residuals:                     187   BIC:                             3119.\n",
      "Df Model:                          10                                         \n",
      "Covariance Type:            nonrobust                                         \n",
      "=================================================================================\n",
      "                    coef    std err          t      P>|t|      [0.025      0.975]\n",
      "---------------------------------------------------------------------------------\n",
      "const          -274.0050    133.512     -2.052      0.042    -537.388     -10.622\n",
      "Time_10:00:00   328.3168    188.814      1.739      0.084     -44.163     700.797\n",
      "Time_10:30:00   320.1848    188.814      1.696      0.092     -52.295     692.665\n",
      "Time_11:00:00   195.6907    188.814      1.036      0.301    -176.789     568.171\n",
      "Time_11:30:00   320.8964    188.814      1.700      0.091     -51.584     693.376\n",
      "Time_13:00:00   310.3347    188.814      1.644      0.102     -62.145     682.815\n",
      "Time_13:30:00   316.0943    188.814      1.674      0.096     -56.386     688.574\n",
      "Time_14:00:00   322.9831    188.814      1.711      0.089     -49.497     695.463\n",
      "Time_14:30:00   318.3362    188.814      1.686      0.093     -54.144     690.816\n",
      "Time_15:00:00   326.6073    188.814      1.730      0.085     -45.873     699.087\n",
      "Time_15:30:00   254.6102    188.814      1.348      0.179    -117.870     627.090\n",
      "==============================================================================\n",
      "Omnibus:                      209.309   Durbin-Watson:                   1.181\n",
      "Prob(Omnibus):                  0.000   Jarque-Bera (JB):            11073.435\n",
      "Skew:                          -3.843   Prob(JB):                         0.00\n",
      "Kurtosis:                      38.821   Cond. No.                         11.9\n",
      "==============================================================================\n",
      "\n",
      "Notes:\n",
      "[1] Standard Errors assume that the covariance matrix of the errors is correctly specified.\n",
      "0.02886910045576363\n"
     ]
    }
   ],
   "source": [
    "#create dummy variable\n",
    "df1_copy=df1_copy.reset_index()\n",
    "df1_copy['Time']=df1_copy['Datetime'].dt.time\n",
    "df1_copy=pd.get_dummies(df1_copy)\n",
    "df1_copy=df1_copy.set_index('Datetime')\n",
    "df1_copy=df1_copy.drop(['Time_09:30:00'],axis=1)\n",
    "df11_copy = df1_copy.copy()\n",
    "df1_copy.drop([\"HSI_Price\"], axis=1,inplace=True)\n",
    "\n",
    "X = df1_copy.drop('detrend', axis = 1)\n",
    "X = sm.add_constant(X)\n",
    "y = df1_copy.loc[:,'detrend']\n",
    "model=sm.OLS(y, X).fit()\n",
    "print(model.summary())\n",
    "print(model.rsquared)"
   ]
  },
  {
   "cell_type": "code",
   "execution_count": 10,
   "id": "638b1976-b5cc-46b2-967f-2deeb58cf30c",
   "metadata": {},
   "outputs": [
    {
     "data": {
      "text/plain": [
       "1.375"
      ]
     },
     "execution_count": 10,
     "metadata": {},
     "output_type": "execute_result"
    }
   ],
   "source": [
    "best_buy = df11_copy.loc[df1_copy.iloc[:,1:-1].T.any()==False][\"HSI_Price\"].min()\n",
    "best_sell = df11_copy.loc[df1_copy['Time_10:00:00'] == 1][\"HSI_Price\"].max()\n",
    "\n",
    "s2b = best_sell / best_buy\n",
    "round(s2b,3)"
   ]
  },
  {
   "cell_type": "markdown",
   "id": "b35d34c6-e84d-4b02-92d3-0ad64e9730d6",
   "metadata": {},
   "source": [
    "# Interday Data"
   ]
  },
  {
   "cell_type": "code",
   "execution_count": 11,
   "id": "45550e6d-04d9-4caf-ae72-8f79acd72e12",
   "metadata": {},
   "outputs": [],
   "source": [
    "df2['detrend'] = signal.detrend(df2[\"Price\"], axis=-1, type='linear', bp=0)\n"
   ]
  },
  {
   "cell_type": "code",
   "execution_count": 12,
   "id": "1d801d52-f5ca-486b-a61c-b1a6bcdf4112",
   "metadata": {},
   "outputs": [],
   "source": [
    "#day of the week\n",
    "df2['Date'] = pd.to_datetime(df2['Date'])\n",
    "df2['weekday'] = df2['Date'].dt.day_name()\n",
    "df2['month'] = df2['Date'].dt.strftime('%b')\n",
    "df2=df2.set_index('Date')\n",
    "df2=pd.get_dummies(df2)\n",
    "\n",
    "#drop not usual deal weekday\n",
    "df2.drop(df2[df2['weekday_Saturday'] ==1].index, inplace=True)\n",
    "df2=df2.drop(['weekday_Saturday'],axis=1)\n",
    "\n",
    "#drop 1-hot encoding\n",
    "df2=df2.drop(['weekday_Monday'],axis=1)\n",
    "df2=df2.drop(['month_Jan'],axis=1)\n",
    "df22=df2.copy()\n",
    "df2.drop([\"Price\"], axis=1,inplace=True)"
   ]
  },
  {
   "cell_type": "code",
   "execution_count": 13,
   "id": "32acbefe-d39e-4a1c-ac08-d460882b5d16",
   "metadata": {},
   "outputs": [
    {
     "name": "stdout",
     "output_type": "stream",
     "text": [
      "                            OLS Regression Results                            \n",
      "==============================================================================\n",
      "Dep. Variable:                detrend   R-squared:                       0.003\n",
      "Model:                            OLS   Adj. R-squared:                  0.001\n",
      "Method:                 Least Squares   F-statistic:                     1.651\n",
      "Date:                Sun, 12 Mar 2023   Prob (F-statistic):             0.0535\n",
      "Time:                        23:14:50   Log-Likelihood:                -86352.\n",
      "No. Observations:                9165   AIC:                         1.727e+05\n",
      "Df Residuals:                    9149   BIC:                         1.729e+05\n",
      "Df Model:                          15                                         \n",
      "Covariance Type:            nonrobust                                         \n",
      "=====================================================================================\n",
      "                        coef    std err          t      P>|t|      [0.025      0.975]\n",
      "-------------------------------------------------------------------------------------\n",
      "const               164.1104    124.232      1.321      0.187     -79.412     407.633\n",
      "weekday_Friday       -2.8457     99.307     -0.029      0.977    -197.510     191.818\n",
      "weekday_Thursday      0.3102     99.055      0.003      0.998    -193.861     194.481\n",
      "weekday_Tuesday      -2.1823     99.307     -0.022      0.982    -196.845     192.481\n",
      "weekday_Wednesday    13.6405     99.081      0.138      0.891    -180.581     207.862\n",
      "month_Apr             5.2436    154.043      0.034      0.973    -296.715     307.203\n",
      "month_Aug          -206.9357    150.442     -1.376      0.169    -501.835      87.964\n",
      "month_Dec          -285.5449    151.990     -1.879      0.060    -583.480      12.390\n",
      "month_Feb            40.1695    155.341      0.259      0.796    -264.334     344.673\n",
      "month_Jul           -62.0992    151.299     -0.410      0.681    -358.678     234.480\n",
      "month_Jun          -109.0529    152.243     -0.716      0.474    -407.484     189.378\n",
      "month_Mar          -187.1844    150.819     -1.241      0.215    -482.823     108.455\n",
      "month_May           -32.1295    152.142     -0.211      0.833    -330.361     266.102\n",
      "month_Nov          -281.9225    151.643     -1.859      0.063    -579.176      15.331\n",
      "month_Oct          -432.6453    152.294     -2.841      0.005    -731.175    -134.116\n",
      "month_Sep          -414.6879    152.396     -2.721      0.007    -713.418    -115.958\n",
      "==============================================================================\n",
      "Omnibus:                      388.225   Durbin-Watson:                   0.007\n",
      "Prob(Omnibus):                  0.000   Jarque-Bera (JB):             1290.307\n",
      "Skew:                           0.018   Prob(JB):                    6.51e-281\n",
      "Kurtosis:                       4.838   Cond. No.                         13.7\n",
      "==============================================================================\n",
      "\n",
      "Notes:\n",
      "[1] Standard Errors assume that the covariance matrix of the errors is correctly specified.\n",
      "0.002699015215598677\n"
     ]
    }
   ],
   "source": [
    "X = df2.drop('detrend', axis = 1)\n",
    "X = sm.add_constant(X)\n",
    "y = df2.loc[:,'detrend']\n",
    "model=sm.OLS(y, X).fit()\n",
    "print(model.summary())\n",
    "print(model.rsquared)"
   ]
  },
  {
   "cell_type": "code",
   "execution_count": 14,
   "id": "4708a8b0-96e4-4503-9e6a-10f1039e26db",
   "metadata": {},
   "outputs": [
    {
     "data": {
      "text/plain": [
       "16.565"
      ]
     },
     "execution_count": 14,
     "metadata": {},
     "output_type": "execute_result"
    }
   ],
   "source": [
    "\n",
    "day_best_buy = df22.loc[df2['weekday_Friday'] == 1]['Price'].min()\n",
    "day_best_sell = df22.loc[df2['weekday_Wednesday'] == 1]['Price'].max()\n",
    "\n",
    "day_s2b = day_best_sell / day_best_buy\n",
    "round(day_s2b,3)"
   ]
  },
  {
   "cell_type": "code",
   "execution_count": 15,
   "id": "75826fe8-f5a4-425c-bbdf-6bff1257fce2",
   "metadata": {},
   "outputs": [
    {
     "data": {
      "text/plain": [
       "14.807"
      ]
     },
     "execution_count": 15,
     "metadata": {},
     "output_type": "execute_result"
    }
   ],
   "source": [
    "month_best_buy = df22.loc[df2['month_Oct'] == 1]['Price'].min()\n",
    "month_best_sell = df22.loc[df2['month_Feb'] == 1]['Price'].max()\n",
    "\n",
    "month_s2b = month_best_sell / month_best_buy\n",
    "round(month_s2b,3)"
   ]
  },
  {
   "cell_type": "markdown",
   "id": "9d9db247-cc89-4657-8a56-6d338e9a1c61",
   "metadata": {
    "jp-MarkdownHeadingCollapsed": true,
    "tags": []
   },
   "source": [
    "improve method"
   ]
  },
  {
   "cell_type": "code",
   "execution_count": 16,
   "id": "12d8ead2-46ff-43f2-9f3e-9e4ba03ba25f",
   "metadata": {},
   "outputs": [],
   "source": [
    "\n",
    "\n",
    "#detrend\n",
    "price=df2_copy[['Date','Price']]\n",
    "price.set_index('Date',inplace=True)\n",
    "df2_copy['detrend'] = polynomial(df2_copy['Price'], order=2)  \n"
   ]
  },
  {
   "cell_type": "code",
   "execution_count": 17,
   "id": "b9ca4b4d-e098-45ec-ae73-4c9bd4289e54",
   "metadata": {},
   "outputs": [],
   "source": [
    "#day of the week\n",
    "#calculate average price for every half hour\n",
    "df2_copy['Date'] = pd.to_datetime(df2_copy['Date'])\n",
    "df2_copy['weekday'] = df2_copy['Date'].dt.strftime('%A')\n",
    "df2_copy['month'] = df2_copy['Date'].dt.strftime('%b')\n",
    "df2_copy=pd.get_dummies(df2_copy)\n",
    "\n",
    "#drop not usual deal weekday\n",
    "df2_copy.drop(df2_copy[df2_copy['weekday_Saturday'] ==1].index, inplace=True)\n",
    "df2_copy=df2_copy.drop(['weekday_Saturday'],axis=1)\n",
    "\n",
    "#1-hot encoding\n",
    "df2_copy=df2_copy.drop(['weekday_Monday'],axis=1)\n",
    "df2_copy=df2_copy.drop(['month_Jan'],axis=1)\n",
    "\n",
    "#ready s2b ratio\n",
    "df2_copy = df2_copy.set_index('Date')\n",
    "df22_copy=df2_copy.copy()\n",
    "df2_copy.drop(['Price'], axis=1,inplace=True)"
   ]
  },
  {
   "cell_type": "code",
   "execution_count": 18,
   "id": "0c75d8e1-f5fd-40aa-9727-8bd5c613e3f3",
   "metadata": {},
   "outputs": [
    {
     "name": "stdout",
     "output_type": "stream",
     "text": [
      "                            OLS Regression Results                            \n",
      "==============================================================================\n",
      "Dep. Variable:                detrend   R-squared:                       0.003\n",
      "Model:                            OLS   Adj. R-squared:                  0.001\n",
      "Method:                 Least Squares   F-statistic:                     1.859\n",
      "Date:                Sun, 12 Mar 2023   Prob (F-statistic):             0.0225\n",
      "Time:                        23:14:50   Log-Likelihood:                -86122.\n",
      "No. Observations:                9165   AIC:                         1.723e+05\n",
      "Df Residuals:                    9149   BIC:                         1.724e+05\n",
      "Df Model:                          15                                         \n",
      "Covariance Type:            nonrobust                                         \n",
      "=====================================================================================\n",
      "                        coef    std err          t      P>|t|      [0.025      0.975]\n",
      "-------------------------------------------------------------------------------------\n",
      "const               194.9839    121.151      1.609      0.108     -42.499     432.466\n",
      "weekday_Friday       -1.7388     96.844     -0.018      0.986    -191.574     188.097\n",
      "weekday_Thursday      1.3357     96.599      0.014      0.989    -188.019     190.690\n",
      "weekday_Tuesday      -1.5395     96.843     -0.016      0.987    -191.374     188.295\n",
      "weekday_Wednesday    13.1723     96.624      0.136      0.892    -176.232     202.577\n",
      "month_Apr           -33.5972    150.222     -0.224      0.823    -328.067     260.872\n",
      "month_Aug          -240.9395    146.710     -1.642      0.101    -528.525      46.646\n",
      "month_Dec          -321.1729    148.220     -2.167      0.030    -611.718     -30.628\n",
      "month_Feb            20.5289    151.488      0.136      0.892    -276.422     317.480\n",
      "month_Jul          -100.4794    147.546     -0.681      0.496    -389.702     188.744\n",
      "month_Jun          -144.4094    148.467     -0.973      0.331    -435.438     146.620\n",
      "month_Mar          -215.0664    147.078     -1.462      0.144    -503.373      73.240\n",
      "month_May           -67.4524    148.368     -0.455      0.649    -358.287     223.382\n",
      "month_Nov          -313.7188    147.882     -2.121      0.034    -603.600     -23.838\n",
      "month_Oct          -477.7781    148.516     -3.217      0.001    -768.903    -186.653\n",
      "month_Sep          -447.9898    148.616     -3.014      0.003    -739.310    -156.669\n",
      "==============================================================================\n",
      "Omnibus:                      225.306   Durbin-Watson:                   0.007\n",
      "Prob(Omnibus):                  0.000   Jarque-Bera (JB):              537.365\n",
      "Skew:                           0.000   Prob(JB):                    2.05e-117\n",
      "Kurtosis:                       4.186   Cond. No.                         13.7\n",
      "==============================================================================\n",
      "\n",
      "Notes:\n",
      "[1] Standard Errors assume that the covariance matrix of the errors is correctly specified.\n",
      "0.0030385036011492117\n"
     ]
    }
   ],
   "source": [
    "\n",
    "X = df2_copy.drop('detrend', axis = 1)\n",
    "X = sm.add_constant(X)\n",
    "y = df2_copy.loc[:,'detrend']\n",
    "model=sm.OLS(y, X).fit()\n",
    "print(model.summary())\n",
    "print(model.rsquared)"
   ]
  },
  {
   "cell_type": "code",
   "execution_count": 19,
   "id": "4650514b-0c61-41e9-913a-9761849031d1",
   "metadata": {},
   "outputs": [
    {
     "data": {
      "text/plain": [
       "16.702"
      ]
     },
     "execution_count": 19,
     "metadata": {},
     "output_type": "execute_result"
    }
   ],
   "source": [
    "df22_copy=df22.merge(price,how='left', left_index=True, right_index=True)\n",
    "day_best_buy = df22_copy.loc[df2_copy['weekday_Wednesday'] == 1]['Price_x'].min()\n",
    "day_best_sell = df22_copy.loc[df2_copy['weekday_Friday'] == 1]['Price_x'].max()\n",
    "\n",
    "day_s2b = day_best_sell / day_best_buy\n",
    "round(day_s2b,3)"
   ]
  },
  {
   "cell_type": "code",
   "execution_count": 20,
   "id": "fc66cdfb-7464-4558-a410-2c3cc50f4ee6",
   "metadata": {},
   "outputs": [
    {
     "data": {
      "text/plain": [
       "14.807"
      ]
     },
     "execution_count": 20,
     "metadata": {},
     "output_type": "execute_result"
    }
   ],
   "source": [
    "month_best_buy = df22_copy.loc[df2_copy['month_Oct'] == 1]['Price_x'].min()\n",
    "month_best_sell = df22_copy.loc[df2_copy['month_Feb'] == 1]['Price_x'].max()\n",
    "\n",
    "month_s2b = month_best_sell / month_best_buy\n",
    "round(month_s2b,3)"
   ]
  },
  {
   "cell_type": "code",
   "execution_count": null,
   "id": "2e5fac26-723c-46b9-9aa1-63b4a6f9e546",
   "metadata": {},
   "outputs": [],
   "source": []
  }
 ],
 "metadata": {
  "kernelspec": {
   "display_name": "Python 3 (ipykernel)",
   "language": "python",
   "name": "python3"
  },
  "language_info": {
   "codemirror_mode": {
    "name": "ipython",
    "version": 3
   },
   "file_extension": ".py",
   "mimetype": "text/x-python",
   "name": "python",
   "nbconvert_exporter": "python",
   "pygments_lexer": "ipython3",
   "version": "3.9.12"
  }
 },
 "nbformat": 4,
 "nbformat_minor": 5
}
